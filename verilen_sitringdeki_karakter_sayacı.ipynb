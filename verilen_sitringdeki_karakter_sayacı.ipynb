{
  "nbformat": 4,
  "nbformat_minor": 0,
  "metadata": {
    "colab": {
      "name": "verilen_sitringdeki_karakter_sayacı.ipynb",
      "provenance": [],
      "authorship_tag": "ABX9TyM5dgP1x1T8YJiOA/EMvgLP",
      "include_colab_link": true
    },
    "kernelspec": {
      "name": "python3",
      "display_name": "Python 3"
    },
    "language_info": {
      "name": "python"
    }
  },
  "cells": [
    {
      "cell_type": "markdown",
      "metadata": {
        "id": "view-in-github",
        "colab_type": "text"
      },
      "source": [
        "<a href=\"https://colab.research.google.com/github/yunusemreoglu/soru-cozumleri/blob/main/verilen_sitringdeki_karakter_sayac%C4%B1.ipynb\" target=\"_parent\"><img src=\"https://colab.research.google.com/assets/colab-badge.svg\" alt=\"Open In Colab\"/></a>"
      ]
    },
    {
      "cell_type": "code",
      "metadata": {
        "id": "k1kffUwo1yxG"
      },
      "source": [
        "a = input(\"lütfen harf sorgusu yapmak istediğiniz cümleyi giriniz: \")\n",
        "\n",
        "\n",
        "\n",
        "def harf_sayici(a):\n",
        "  sayac = {}\n",
        "  for harf in a:\n",
        "    if sayac.get(harf, None) is None:\n",
        "      sayac[harf] = 1\n",
        "    else:\n",
        "      sayac[harf] += 1\n",
        "  return sayac\n",
        "\n",
        "harf_sayici(a)"
      ],
      "execution_count": null,
      "outputs": []
    }
  ]
}