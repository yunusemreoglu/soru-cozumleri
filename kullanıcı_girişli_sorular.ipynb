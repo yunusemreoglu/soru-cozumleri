{
  "nbformat": 4,
  "nbformat_minor": 0,
  "metadata": {
    "colab": {
      "name": "kullanıcı-girişli-sorular.ipynb",
      "provenance": [],
      "collapsed_sections": [],
      "authorship_tag": "ABX9TyMUmZnK/a2DOrwwG20I/7xg",
      "include_colab_link": true
    },
    "kernelspec": {
      "name": "python3",
      "display_name": "Python 3"
    },
    "language_info": {
      "name": "python"
    }
  },
  "cells": [
    {
      "cell_type": "markdown",
      "metadata": {
        "id": "view-in-github",
        "colab_type": "text"
      },
      "source": [
        "<a href=\"https://colab.research.google.com/github/yunusemreoglu/soru-cozumleri/blob/main/kullan%C4%B1c%C4%B1_giri%C5%9Fli_sorular.ipynb\" target=\"_parent\"><img src=\"https://colab.research.google.com/assets/colab-badge.svg\" alt=\"Open In Colab\"/></a>"
      ]
    },
    {
      "cell_type": "code",
      "metadata": {
        "colab": {
          "base_uri": "https://localhost:8080/"
        },
        "id": "DM7I4wmUkLw2",
        "outputId": "6d968f2f-99e9-4759-d6dd-5a3de10478d7"
      },
      "source": [
        "'''\n",
        "\n",
        "Kullanıcıdan bir sayı girişi isteyin ve o sayı ve öncekilerin toplamını yazdırın.\n",
        "\n",
        "-negatif sayılar olmasın.\n",
        "\n",
        "'''\n",
        "\n",
        "num = float(input(\"lütfen bir sayı giriniz.\"))\n",
        "\n",
        "if num < 0:\n",
        "  print(\"negatif sayı girdiniz lütfen pozitif sayı giriniz\")\n",
        "  \n",
        "else:\n",
        "  sum = 0\n",
        "  while num > 0:\n",
        "    sum += num # her seferinde girilen rakamı toplayarak gidecek\n",
        "    num -= 1  # girilrn rakam da her seferinde 1 düşecek.\n",
        "  print(\"toplam sayı: \", sum)"
      ],
      "execution_count": 9,
      "outputs": [
        {
          "output_type": "stream",
          "text": [
            "lütfen bir sayı giriniz.50\n",
            "toplam sayı:  1275.0\n"
          ],
          "name": "stdout"
        }
      ]
    },
    {
      "cell_type": "code",
      "metadata": {
        "id": "udE1G1a4lTLa"
      },
      "source": [
        ""
      ],
      "execution_count": null,
      "outputs": []
    }
  ]
}