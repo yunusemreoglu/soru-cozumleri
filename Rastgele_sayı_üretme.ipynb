{
  "nbformat": 4,
  "nbformat_minor": 0,
  "metadata": {
    "colab": {
      "name": "Rastgele sayı üretme.ipynb",
      "provenance": [],
      "collapsed_sections": [],
      "authorship_tag": "ABX9TyNuHiAPXZ6jdASAFKW8PtWT",
      "include_colab_link": true
    },
    "kernelspec": {
      "name": "python3",
      "display_name": "Python 3"
    },
    "language_info": {
      "name": "python"
    }
  },
  "cells": [
    {
      "cell_type": "markdown",
      "metadata": {
        "id": "view-in-github",
        "colab_type": "text"
      },
      "source": [
        "<a href=\"https://colab.research.google.com/github/yunusemreoglu/soru-cozumleri/blob/main/Rastgele_say%C4%B1_%C3%BCretme.ipynb\" target=\"_parent\"><img src=\"https://colab.research.google.com/assets/colab-badge.svg\" alt=\"Open In Colab\"/></a>"
      ]
    },
    {
      "cell_type": "code",
      "metadata": {
        "colab": {
          "base_uri": "https://localhost:8080/"
        },
        "id": "3jDwyVvoZQ-G",
        "outputId": "b2af6c28-5a0f-412d-a450-25dd5230b6ed"
      },
      "source": [
        "'''\n",
        "1 - 100 arasında rastgele üretilecek bir sayıyı aşağı yukarı ifadeleri ile \n",
        "buldurmaya çalışın ?\n",
        "\n",
        "- Hak = 5\n",
        "- \"Random modülü\" ' nden yararlanılabilir.\n",
        "- 100 üzerinden puanlama yapın, her soru 20 puan.\n",
        "- Hak bilgisini kullanıcıdan alın ve her soru belirtilen can sayısı \n",
        "üzerinden hesaplansın.\n",
        "\n",
        "\n",
        "'''\n",
        "\n",
        "import random\n",
        "\n",
        "sayı = random.randint(1,10)\n",
        "can = int(input(\"kaç hak kullanmak istiyorsun? \"))\n",
        "hak = can\n",
        "sayaç = 0\n",
        "\n",
        "while hak > 0:\n",
        "  hak -= 1\n",
        "  sayaç += 1\n",
        "  tahmin = int(input(\"sayı tahmininizi giriniz.\"))\n",
        "\n",
        "  if tahmin == sayı:\n",
        "    print(f\"tebrikler sayıyı: {sayaç}.defada bildiniz. Toplam puanınız: {100 - (100/can)*(sayaç-1)}\")\n",
        "    break\n",
        "  elif tahmin < sayı:\n",
        "    print(\"yukarı\")\n",
        "  else: #tahmin > sayı:\n",
        "    print(\"asağı\")\n",
        "\n",
        "  if hak == 0:\n",
        "    print(f\"hakkınız bitti. tutulan sayı{sayı} idi.\")\n",
        "  \n",
        "\n",
        "\n",
        "\n",
        "\n"
      ],
      "execution_count": 7,
      "outputs": [
        {
          "output_type": "stream",
          "text": [
            "kaç hak kullanmak istiyorsun? 5\n",
            "sayı tahmininizi giriniz.4\n",
            "tebrikler sayıyı: 1.defada bildiniz. Toplam puanınız: 100.0\n"
          ],
          "name": "stdout"
        }
      ]
    },
    {
      "cell_type": "code",
      "metadata": {
        "id": "H7MuTcCFcDXR"
      },
      "source": [
        ""
      ],
      "execution_count": null,
      "outputs": []
    }
  ]
}