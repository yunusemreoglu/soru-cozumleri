{
  "nbformat": 4,
  "nbformat_minor": 0,
  "metadata": {
    "colab": {
      "name": "python_FizzBuzz-SORU-ÇÖZÜMÜ...ipynb",
      "provenance": [],
      "authorship_tag": "ABX9TyMhnNOks601Civ53RlOnd7F",
      "include_colab_link": true
    },
    "kernelspec": {
      "name": "python3",
      "display_name": "Python 3"
    },
    "language_info": {
      "name": "python"
    }
  },
  "cells": [
    {
      "cell_type": "markdown",
      "metadata": {
        "id": "view-in-github",
        "colab_type": "text"
      },
      "source": [
        "<a href=\"https://colab.research.google.com/github/yunusemreoglu/soru-cozumleri/blob/main/python_FizzBuzz_SORU_%C3%87%C3%96Z%C3%9CM%C3%9C_.ipynb\" target=\"_parent\"><img src=\"https://colab.research.google.com/assets/colab-badge.svg\" alt=\"Open In Colab\"/></a>"
      ]
    },
    {
      "cell_type": "code",
      "metadata": {
        "id": "MejBb5uw8KeQ"
      },
      "source": [
        "'''\n",
        "\n",
        "Fizz Buzz numaralarını yazdırın.\n",
        "\n",
        "\n",
        "-Aşağıdaki talimatları izleyerek 1'den 100'e kadar sayılar yazdırın :\n",
        "\n",
        "  * sayı 3'ün katı ise, bu numara yerine \"Fizz\" yazın,\n",
        "  * sayı 5'in katı ise, bu numara yerine \"Buzz\" yazın,\n",
        "  * hem 3 hem de 5'in katları için \"FizzBuzz\" yazdırın,\n",
        "  * sayıların geri kalanını değiştirmeden yazdırın.\n",
        "\n",
        "-Her değerin ayrı bir satırda çıktısını alın.\n",
        "\n",
        "\n",
        "\n",
        "'''\n",
        "\n",
        "for i in range(1,101):\n",
        "  if (i % 3 == 0) and (i % 5 == 0):\n",
        "    print(str(i) + \" FizzBuzz\")\n",
        "   \n",
        "  elif (i % 3 == 0):\n",
        "    print(str(i) + \" Fizz\")\n",
        "   \n",
        "  elif (i % 5 == 0):\n",
        "    print(str(i) + \" Buzz\" )\n",
        "\n",
        "  else:\n",
        "    print(i)\n",
        "\n",
        "  "
      ],
      "execution_count": null,
      "outputs": []
    }
  ]
}