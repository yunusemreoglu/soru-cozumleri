{
  "nbformat": 4,
  "nbformat_minor": 0,
  "metadata": {
    "colab": {
      "name": "Armstrong-sayı-ve-çözümü.ipynb",
      "provenance": [],
      "collapsed_sections": [],
      "authorship_tag": "ABX9TyNK2ONM+iaj+kJs7PI4rTMi",
      "include_colab_link": true
    },
    "kernelspec": {
      "name": "python3",
      "display_name": "Python 3"
    },
    "language_info": {
      "name": "python"
    }
  },
  "cells": [
    {
      "cell_type": "markdown",
      "metadata": {
        "id": "view-in-github",
        "colab_type": "text"
      },
      "source": [
        "<a href=\"https://colab.research.google.com/github/yunusemreoglu/soru-cozumleri/blob/main/Armstrong_say%C4%B1_ve_%C3%A7%C3%B6z%C3%BCm%C3%BC.ipynb\" target=\"_parent\"><img src=\"https://colab.research.google.com/assets/colab-badge.svg\" alt=\"Open In Colab\"/></a>"
      ]
    },
    {
      "cell_type": "code",
      "metadata": {
        "id": "peltZchKVJhq"
      },
      "source": [
        "\"\"\"\n",
        "Find out if a given number is an \"Armstrong Number\".\n",
        "\n",
        "--An n-digit number that is the sum of the nth powers of its digits is called \n",
        "an n-Armstrong number. Examples :\n",
        "\n",
        "1. 371 = 33 + 73 + 13;\n",
        "2. 9474 = 94 + 44 + 74 + 44;\n",
        "3. 93084 = 95 + 35 + 05 + 85 + 45.\n",
        "\n",
        "\n",
        "--Write a Python program that;\n",
        "   *takes a positive integer number from the user,\n",
        "   *checks the entered number if it is Armstrong,\n",
        "   *consider the negative, float and any entries other than numeric values \n",
        "    then display a warning message to the user.\n",
        "\n",
        "\"\"\"\n",
        "while True:\n",
        "\n",
        "  number = input(\"lütfen pozitif bir sayı giriniz: \")\n",
        "  if (int(number) <= 0) and (number.isdigit()):\n",
        "    print(\"Girdiğiniz sayı hatalı, lütfen pozitif bir tamsayı giriniz..\")\n",
        "  else:\n",
        "    break\n",
        "\n",
        "\n",
        "basamak = str(number)\n",
        "\n",
        "armtoplam = 0\n",
        "\n",
        "for i in basamak:\n",
        "  i = int(i)\n",
        "  armtoplam = armtoplam + i ** len(basamak)\n",
        "\n",
        "if armtoplam == number:\n",
        "  print(f\"girmiş olduğunuz {number} sayısı armstrong bir sayı değildir..\")\n",
        "else:\n",
        "  print(f\"girmiş olduğunuz {number} sayısı armstrong bir sayıdır..\")\n",
        "\n",
        "\n",
        "\n"
      ],
      "execution_count": null,
      "outputs": []
    }
  ]
}