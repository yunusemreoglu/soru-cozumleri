{
  "nbformat": 4,
  "nbformat_minor": 0,
  "metadata": {
    "colab": {
      "name": "Asal-sayı-sorusu .ipynb",
      "provenance": [],
      "authorship_tag": "ABX9TyMpUlF9+u42MRHa6sNTjlR5",
      "include_colab_link": true
    },
    "kernelspec": {
      "name": "python3",
      "display_name": "Python 3"
    },
    "language_info": {
      "name": "python"
    }
  },
  "cells": [
    {
      "cell_type": "markdown",
      "metadata": {
        "id": "view-in-github",
        "colab_type": "text"
      },
      "source": [
        "<a href=\"https://colab.research.google.com/github/yunusemreoglu/soru-cozumleri/blob/main/Asal_say%C4%B1_sorusu_.ipynb\" target=\"_parent\"><img src=\"https://colab.research.google.com/assets/colab-badge.svg\" alt=\"Open In Colab\"/></a>"
      ]
    },
    {
      "cell_type": "code",
      "metadata": {
        "colab": {
          "base_uri": "https://localhost:8080/"
        },
        "id": "avWuvNitf-mx",
        "outputId": "5404209a-ec02-4d2b-aaa4-a50aa9c2e797"
      },
      "source": [
        "'''\n",
        "Girilen bir sayının asal sayı olup olmadığını bulun ?\n",
        "\n",
        "Not = \"Asal sayı 1 ve kendisi hariç tam böleni olmayan sayılara denir.\"\n",
        "\n",
        "'''\n",
        "sayı = int((input(\"Sayı giriniz: \")))\n",
        "asalmı = True\n",
        "\n",
        "if sayı == 1:\n",
        "  asalmı = False\n",
        "\n",
        "for i in range(2, sayı):\n",
        "  if (sayı % i == 0):\n",
        "    asalmı = False\n",
        "    break\n",
        "\n",
        "if asalmı:\n",
        "  print(\"Girilen sayı asaldır\")\n",
        "else:\n",
        "  print(\"Girilen sayı asal değildir.\")\n",
        "\n"
      ],
      "execution_count": 7,
      "outputs": [
        {
          "output_type": "stream",
          "text": [
            "Sayı giriniz: 5\n",
            "Girilen sayı asaldır\n"
          ],
          "name": "stdout"
        }
      ]
    },
    {
      "cell_type": "code",
      "metadata": {
        "id": "IZkEHO2Th60R"
      },
      "source": [
        ""
      ],
      "execution_count": null,
      "outputs": []
    }
  ]
}