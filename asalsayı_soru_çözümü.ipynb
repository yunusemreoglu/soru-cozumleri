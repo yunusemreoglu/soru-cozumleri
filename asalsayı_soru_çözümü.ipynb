{
  "nbformat": 4,
  "nbformat_minor": 0,
  "metadata": {
    "colab": {
      "name": "asalsayı-soru-çözümü.ipynb",
      "provenance": [],
      "collapsed_sections": [],
      "authorship_tag": "ABX9TyNzc6DFMxawklYX9A1PTgBa",
      "include_colab_link": true
    },
    "kernelspec": {
      "name": "python3",
      "display_name": "Python 3"
    },
    "language_info": {
      "name": "python"
    }
  },
  "cells": [
    {
      "cell_type": "markdown",
      "metadata": {
        "id": "view-in-github",
        "colab_type": "text"
      },
      "source": [
        "<a href=\"https://colab.research.google.com/github/yunusemreoglu/soru-cozumleri/blob/main/asalsay%C4%B1_soru_%C3%A7%C3%B6z%C3%BCm%C3%BC.ipynb\" target=\"_parent\"><img src=\"https://colab.research.google.com/assets/colab-badge.svg\" alt=\"Open In Colab\"/></a>"
      ]
    },
    {
      "cell_type": "code",
      "metadata": {
        "colab": {
          "base_uri": "https://localhost:8080/"
        },
        "id": "V00XeI2ro09R",
        "outputId": "51c0d73f-f818-4eff-cd57-b464f37be760"
      },
      "source": [
        "'''\n",
        "Print the prime numbers which are between 1 to entered limit number (n).\n",
        "\n",
        "-You can use a nested for loop.\n",
        "-Collect all these numbers into a list\n",
        "-The desired output for n=100 :\n",
        "\n",
        "output= [2, 3, 5, 7, 11, 13, 17, 19, 23, 29, 31, 37, 41, 43, 47, 53, 59, 61, 67, 71, 73, 79, 83, 89, 97]\n",
        "\n",
        "'''\n",
        "\n",
        "liste = []\n",
        "\n",
        "for i in range(1,100):\n",
        "  if i == 1: continue\n",
        "  for b in range(2,i):\n",
        "    if i%b == 0:\n",
        "        break\n",
        "  else:\n",
        "      liste.append(i)\n",
        "print(liste)\n",
        "\n",
        "\n",
        "\n",
        "\n",
        "\n",
        "\n"
      ],
      "execution_count": 1,
      "outputs": [
        {
          "output_type": "stream",
          "text": [
            "[2, 3, 5, 7, 11, 13, 17, 19, 23, 29, 31, 37, 41, 43, 47, 53, 59, 61, 67, 71, 73, 79, 83, 89, 97]\n"
          ],
          "name": "stdout"
        }
      ]
    }
  ]
}