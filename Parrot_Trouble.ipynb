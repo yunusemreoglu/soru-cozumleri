{
  "nbformat": 4,
  "nbformat_minor": 0,
  "metadata": {
    "colab": {
      "name": "Parrot-Trouble.ipynb",
      "provenance": [],
      "authorship_tag": "ABX9TyOjMSGoo6DoNTDOAqUwc2+f",
      "include_colab_link": true
    },
    "kernelspec": {
      "name": "python3",
      "display_name": "Python 3"
    },
    "language_info": {
      "name": "python"
    }
  },
  "cells": [
    {
      "cell_type": "markdown",
      "metadata": {
        "id": "view-in-github",
        "colab_type": "text"
      },
      "source": [
        "<a href=\"https://colab.research.google.com/github/yunusemreoglu/soru-cozumleri/blob/main/Parrot_Trouble.ipynb\" target=\"_parent\"><img src=\"https://colab.research.google.com/assets/colab-badge.svg\" alt=\"Open In Colab\"/></a>"
      ]
    },
    {
      "cell_type": "code",
      "metadata": {
        "id": "lRKrYCHuZcrT"
      },
      "source": [
        "'''\n",
        "We have a loud talking parrot. We are in trouble if the parrot is talking \n",
        "and the hour is before 6 or after 21.\n",
        "\n",
        "Define a function taking two parameters (talking and hour) to return True \n",
        "if we are in trouble. The argument to  talking parameter can only be True or\n",
        "False whether it is talking or not. The argument to hour parameter should be \n",
        "the current hour time in the range of 0 to 23.\n",
        "\n",
        "For example:\n",
        "\n",
        "Test\tResult\n",
        "print(parrot_trouble(True, 5))\n",
        "True\n",
        "print(parrot_trouble(True, 8))\n",
        "False\n",
        "print(parrot_trouble(False, 22))\n",
        "False\n",
        "\n",
        "\n",
        "'''\n",
        "\n",
        "def parrot_trouble(talking, hour):\n",
        "  if talking and (hour<6 or hour>21):\n",
        "    return True\n",
        "  else:\n",
        "    return False"
      ],
      "execution_count": null,
      "outputs": []
    }
  ]
}