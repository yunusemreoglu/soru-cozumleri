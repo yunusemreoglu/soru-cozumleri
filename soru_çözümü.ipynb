{
  "nbformat": 4,
  "nbformat_minor": 0,
  "metadata": {
    "colab": {
      "name": "soru_çözümü.ipynb",
      "provenance": [],
      "authorship_tag": "ABX9TyM913EWo4Ya+1yHfuoR3/qS",
      "include_colab_link": true
    },
    "kernelspec": {
      "name": "python3",
      "display_name": "Python 3"
    },
    "language_info": {
      "name": "python"
    }
  },
  "cells": [
    {
      "cell_type": "markdown",
      "metadata": {
        "id": "view-in-github",
        "colab_type": "text"
      },
      "source": [
        "<a href=\"https://colab.research.google.com/github/yunusemreoglu/soru-cozumleri/blob/main/soru_%C3%A7%C3%B6z%C3%BCm%C3%BC.ipynb\" target=\"_parent\"><img src=\"https://colab.research.google.com/assets/colab-badge.svg\" alt=\"Open In Colab\"/></a>"
      ]
    },
    {
      "cell_type": "code",
      "metadata": {
        "colab": {
          "base_uri": "https://localhost:8080/"
        },
        "id": "kOGyhYk5TQqS",
        "outputId": "cb572444-10c8-4cef-e29c-fa59912bdfe3"
      },
      "source": [
        "'''If we list all the natural numbers below 10 that are multiples of 3 or 5, we\n",
        " get 3, 5, 6 and 9. The sum of these multiples is 23.\n",
        "\n",
        "Finish the solution so that it returns the sum of all the multiples\n",
        "\n",
        "of 3 or 5 below the number passed in.\n",
        "Note: If the number is a multiple of both 3 and 5, only count it once. \n",
        "Also, if a number is negative, return 0(for languages that do have them)'''\n",
        "\n",
        "\n",
        "def solution(number):\n",
        "    result = []\n",
        "    for i in range(1, number):\n",
        "        if i % 3 == 0 or i % 5 == 0:\n",
        "            result.append(i)\n",
        "\n",
        "    return sum(result)\n",
        "solution(10)"
      ],
      "execution_count": 2,
      "outputs": [
        {
          "output_type": "execute_result",
          "data": {
            "text/plain": [
              "23"
            ]
          },
          "metadata": {
            "tags": []
          },
          "execution_count": 2
        }
      ]
    }
  ]
}