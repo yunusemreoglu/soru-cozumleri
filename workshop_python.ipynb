{
  "nbformat": 4,
  "nbformat_minor": 0,
  "metadata": {
    "colab": {
      "name": "workshop-python.ipynb",
      "provenance": [],
      "collapsed_sections": [],
      "authorship_tag": "ABX9TyMlrecyOITzWFmtCkm9xCaH",
      "include_colab_link": true
    },
    "kernelspec": {
      "name": "python3",
      "display_name": "Python 3"
    },
    "language_info": {
      "name": "python"
    }
  },
  "cells": [
    {
      "cell_type": "markdown",
      "metadata": {
        "id": "view-in-github",
        "colab_type": "text"
      },
      "source": [
        "<a href=\"https://colab.research.google.com/github/yunusemreoglu/soru-cozumleri/blob/main/workshop_python.ipynb\" target=\"_parent\"><img src=\"https://colab.research.google.com/assets/colab-badge.svg\" alt=\"Open In Colab\"/></a>"
      ]
    },
    {
      "cell_type": "code",
      "metadata": {
        "colab": {
          "base_uri": "https://localhost:8080/"
        },
        "id": "HJl1YqWGXpYv",
        "outputId": "c73d5cd3-b0ca-4f1f-8da8-d48697c5dec1"
      },
      "source": [
        "'''\n",
        "Parantez Kombinasyonunu Doğrula\n",
        "\n",
        "- Yalnızca (,), {,}, [ve] karakterlerini içeren bir dizge verilen bir\n",
        " işlev yazın, aşağıdaki kuralları kullanarak girdi dizesinin \n",
        " geçerli olup olmadığını belirler.\n",
        "\n",
        "- Aşağıdaki durumlarda bir giriş dizesi geçerlidir:\n",
        "\n",
        "    * Açık parantezler aynı tip parantezlerle kapatılmalıdır\n",
        " \n",
        "    * Açık parantezler doğru sırada kapatılmalıdır.\n",
        "\n",
        "- Boş bir dizenin de geçerli kabul edildiğini unutmayın.\n",
        "\n",
        "'''\n",
        "\n",
        "\n",
        "open_list = [\"[\",\"{\",\"(\"]\n",
        "close_list = [\"]\",\"}\",\")\"]\n",
        "\n",
        "def cek_eden_fonk(parantez):\n",
        "  stack = []\n",
        "  for i in parantez:\n",
        "    if i in open_list:\n",
        "      stack.append(i)\n",
        "    elif i in close_list:\n",
        "      a = close_list.index(i)  # close_listteki index numarasını döndürecek.. 0 1 yada 2 gelecek..\n",
        "      if ((len(stack)>0 and open_list[a] == stack[-1])): # stack boş değilse ve stack 'ın son elemanının karşılığı open list[a] 'ya eşitse,\n",
        "        stack.pop()\n",
        "      else:\n",
        "        return False\n",
        "  if len(stack) == 0:\n",
        "    return True\n",
        "  else:\n",
        "    return False\n",
        "\n",
        "giris = input('Write a string that contains only `(`, `)`, `{`, `}`, `[` and `]`: ')\n",
        "\n",
        "print(cek_eden_fonk(giris))\n",
        "\n",
        "  \n",
        "\n"
      ],
      "execution_count": null,
      "outputs": [
        {
          "output_type": "stream",
          "text": [
            "Write a string that contains only `(`, `)`, `{`, `}`, `[` and `]`: ((((()))\n",
            "False\n"
          ],
          "name": "stdout"
        }
      ]
    },
    {
      "cell_type": "code",
      "metadata": {
        "colab": {
          "base_uri": "https://localhost:8080/"
        },
        "id": "zLzqRc7CZbSs",
        "outputId": "244ac62f-31a0-4d3e-91d6-a380c9353d79"
      },
      "source": [
        "'''\n",
        "Mors Çevirmeni\n",
        "\n",
        "Bu kodlama zorluğunun amacı, düz metni mors koduna çeviren bir program yazmaktır.\n",
        "Aşağıdaki sözlük kullanılabilir..\n",
        "\n",
        "{\n",
        "  'A': '.-', 'B': '-...', 'C': '-.-.', 'D': '-..', 'E': '.', 'F': '..-.',\n",
        "  'G': '--.', 'H': '....', 'I': '..', 'J': '.---', 'K': '-.-', 'L': '.-..',\n",
        "  'M': '--', 'N': '-.', 'O': '---', 'P': '.--.', 'Q': '--.-', 'R': '.-.',\n",
        "  'S': '...', 'T': '-', 'U': '..-', 'V': '...-', 'W': '.--', 'X': '-..-',\n",
        "  'Y': '-.--', 'Z': '--..', ' ': ' ', '0': '-----',\n",
        "  '1': '.----', '2': '..---', '3': '...--', '4': '....-', '5': '.....',\n",
        "  '6': '-....', '7': '--...', '8': '---..', '9': '----.',\n",
        "  '&': '.-...', \"'\": '.----.', '@': '.--.-.', ')': '-.--.-', '(': '-.--.',\n",
        "  ':': '---...', ',': '--..--', '=': '-...-', '!': '-.-.--', '.': '.-.-.-',\n",
        "  '-': '-....-', '+': '.-.-.', '\"': '.-..-.', '?': '..--..', '/': '-..-.'\n",
        "}\n",
        "'''\n",
        "\n",
        "def mors(text):\n",
        "  morse_code_alfabesi ={\n",
        "  'A': '.-', 'B': '-...', 'C': '-.-.', 'D': '-..', 'E': '.', 'F': '..-.',\n",
        "  'G': '--.', 'H': '....', 'I': '..', 'J': '.---', 'K': '-.-', 'L': '.-..',\n",
        "  'M': '--', 'N': '-.', 'O': '---', 'P': '.--.', 'Q': '--.-', 'R': '.-.',\n",
        "  'S': '...', 'T': '-', 'U': '..-', 'V': '...-', 'W': '.--', 'X': '-..-',\n",
        "  'Y': '-.--', 'Z': '--..', ' ': ' ', '0': '-----',\n",
        "  '1': '.----', '2': '..---', '3': '...--', '4': '....-', '5': '.....',\n",
        "  '6': '-....', '7': '--...', '8': '---..', '9': '----.',\n",
        "  '&': '.-...', \"'\": '.----.', '@': '.--.-.', ')': '-.--.-', '(': '-.--.',\n",
        "  ':': '---...', ',': '--..--', '=': '-...-', '!': '-.-.--', '.': '.-.-.-',\n",
        "  '-': '-....-', '+': '.-.-.', '\"': '.-..-.', '?': '..--..', '/': '-..-.'\n",
        "}\n",
        "\n",
        "  morse_code = \"\"    # biz dönerken bu bizim kodumuzu tutacak..\n",
        "\n",
        "  for x in text:   # her karakter üzerinde geziyoruz..\n",
        "    morse_code += morse_code_alfabesi[x.upper()]  #her defasında morse koddaki harfinden valuesini dödürecek.. ve alfabede büyük harf olduğu için upper() yapıyoruz..\n",
        "  return morse_code\n",
        "\n",
        "\n",
        "text = input(\"lütfen morse kodunu görmek istediğiniz kelimeyi yazınız.. \")\n",
        "print(mors(text))\n"
      ],
      "execution_count": null,
      "outputs": [
        {
          "output_type": "stream",
          "text": [
            "lütfen morse kodunu görmek istediğiniz kelimeyi yazınız.. tugce\n",
            "-..---.-.-..\n"
          ],
          "name": "stdout"
        }
      ]
    },
    {
      "cell_type": "code",
      "metadata": {
        "id": "bMgJxI4Wfn1n",
        "colab": {
          "base_uri": "https://localhost:8080/"
        },
        "outputId": "043a055a-0ae8-4861-d9ff-e805bf3fc368"
      },
      "source": [
        "'''\n",
        "Hisse Senedi Karını Hesapla\n",
        "\n",
        "Bu kodlama zorluğunun amacı, bir hisse senedinden alabileceğiniz \n",
        "maksimum karı hesaplayan bir program yazmaktır.\n",
        "\n",
        "- Bir şirketin hisse senedi fiyatlarını kronolojik sırayla temsil eden bir\n",
        "dizi sayı verildiğinde, o hisseyi bir kez alıp satarak elde edebileceğiniz \n",
        "maksimum karı hesaplayan bir işlev yazın. Satmadan önce satın almanız gerektiğini\n",
        " unutmayın.\n",
        "\n",
        "- Örneğin, [9, 11, 8, 5, 7, 10] verildiğinde, hisseyi 5 dolardan \n",
        "satın alıp 10 dolardan satabileceğiniz için 5 döndürmelisiniz.\n",
        "\n",
        "'''\n",
        "\n",
        "##1.yol\n",
        "\n",
        "\n",
        "def al_sat(stok_fiyati):\n",
        "  maksimum_kar = 0\n",
        "  mevcut_maksimum_değer = 0\n",
        "  for fiyat in reversed(stok_fiyati):\n",
        "    mevcut_maksimum_değer = max(mevcut_maksimum_değer, fiyat)\n",
        "    potansiyel_kar = mevcut_maksimum_değer - fiyat\n",
        "    maksimum_kar = max(maksimum_kar, potansiyel_kar)\n",
        "\n",
        "  return maksimum_kar\n",
        "\n",
        "al_sat([1,6,19,59,30,60])\n"
      ],
      "execution_count": null,
      "outputs": [
        {
          "output_type": "execute_result",
          "data": {
            "text/plain": [
              "59"
            ]
          },
          "metadata": {
            "tags": []
          },
          "execution_count": 16
        }
      ]
    },
    {
      "cell_type": "code",
      "metadata": {
        "id": "qn2Gx0IPXnXk",
        "colab": {
          "base_uri": "https://localhost:8080/"
        },
        "outputId": "fa7e499f-a9f7-4a79-e769-7dcb6ee80159"
      },
      "source": [
        "##2.yol\n",
        "\n",
        "\n",
        "numbers = [6,19,59,30,1]\n",
        "list1 = []\n",
        "for i in numbers:\n",
        "  list1.append(i - int([i if numbers.index(i)==0 else min(numbers[:numbers.index(i)])][0]))\n",
        "print(max(list1))"
      ],
      "execution_count": 20,
      "outputs": [
        {
          "output_type": "stream",
          "text": [
            "53\n"
          ],
          "name": "stdout"
        }
      ]
    }
  ]
}