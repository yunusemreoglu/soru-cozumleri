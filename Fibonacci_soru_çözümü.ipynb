{
  "nbformat": 4,
  "nbformat_minor": 0,
  "metadata": {
    "colab": {
      "name": "Fibonacci-soru-çözümü.ipynb",
      "provenance": [],
      "collapsed_sections": [],
      "authorship_tag": "ABX9TyP3Ekndga+ObTc+vw6O5FI7",
      "include_colab_link": true
    },
    "kernelspec": {
      "name": "python3",
      "display_name": "Python 3"
    },
    "language_info": {
      "name": "python"
    }
  },
  "cells": [
    {
      "cell_type": "markdown",
      "metadata": {
        "id": "view-in-github",
        "colab_type": "text"
      },
      "source": [
        "<a href=\"https://colab.research.google.com/github/yunusemreoglu/soru-cozumleri/blob/main/Fibonacci_soru_%C3%A7%C3%B6z%C3%BCm%C3%BC.ipynb\" target=\"_parent\"><img src=\"https://colab.research.google.com/assets/colab-badge.svg\" alt=\"Open In Colab\"/></a>"
      ]
    },
    {
      "cell_type": "code",
      "metadata": {
        "colab": {
          "base_uri": "https://localhost:8080/"
        },
        "id": "zg7gPaJTIx1o",
        "outputId": "cfa046f4-d478-4045-daae-34cfdca2e4c0"
      },
      "source": [
        "'''\n",
        "Create a list consisting of Fibonacci numbers from 1 to 55 using control flow statements.\n",
        "\n",
        "'''\n",
        "a = 1\n",
        "b = 1\n",
        "\n",
        "fibonacci = [a,b]\n",
        "\n",
        "for i in range(8):\n",
        "  a,b = b, a+b\n",
        "  fibonacci.append(b)\n",
        "\n",
        "print(fibonacci)\n"
      ],
      "execution_count": 13,
      "outputs": [
        {
          "output_type": "stream",
          "text": [
            "[1, 1, 2, 3, 5, 8, 13, 21, 34, 55]\n"
          ],
          "name": "stdout"
        }
      ]
    }
  ]
}